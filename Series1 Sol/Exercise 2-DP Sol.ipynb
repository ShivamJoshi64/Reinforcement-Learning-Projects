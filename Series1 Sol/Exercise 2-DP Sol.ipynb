{
 "cells": [
  {
   "cell_type": "markdown",
   "metadata": {},
   "source": [
    "# (a) Dynamic Programming Algorithm"
   ]
  },
  {
   "cell_type": "code",
   "execution_count": 1,
   "metadata": {},
   "outputs": [],
   "source": [
    "import numpy as np\n",
    "import matplotlib.pyplot as plt"
   ]
  },
  {
   "cell_type": "code",
   "execution_count": 2,
   "metadata": {},
   "outputs": [],
   "source": [
    "S = np.arange(-4,5) #states\n",
    "#print(S)\n",
    "U = np.arange(-2,3) #control actions\n",
    "#print(U)"
   ]
  },
  {
   "cell_type": "code",
   "execution_count": 3,
   "metadata": {},
   "outputs": [],
   "source": [
    "def Optimalfunction1():\n",
    "    J = [] #List of list for cost at each [stage][state]\n",
    "    MU = [] # Control action at each [stage][state]\n",
    "    for i in range(0,16):\n",
    "        V=[] \n",
    "        mu=[]\n",
    "        if(i == 0):\n",
    "            for j in range(0,S.size):\n",
    "                if(S[j]==0):\n",
    "                    V.append(0) #as Gn(15) = 0 if Xn = 0\n",
    "                else:\n",
    "                    V.append(float('inf')) # as Gn(15) = infinity if Xn != 0\n",
    "        else:\n",
    "            for j in range(0,S.size):\n",
    "                jt = float('inf') \n",
    "                c = -4 \n",
    "                for k in range(0,U.size): #iterating over control actions\n",
    "                    xn = S[j]+U[k] #next state based on current state and action\n",
    "                    if(xn<5 and xn>-5): \n",
    "                        j1 = J[-1][xn+4]+(S[j]+4)*(S[j]+4)+U[k]*U[k] \n",
    "                        if(j1<jt):\n",
    "                            c = U[k]\n",
    "                            jt = j1\n",
    "                V.append(jt) # list of cost for each state in the stage \n",
    "                mu.append(c) #list of control for each state in the stage\n",
    "        J.append(V) #2d list of cost[at each stage][for each state] \n",
    "        #print(\"i = %d\" % i)\n",
    "        #print(\"J:\", J)\n",
    "        if(i!=0):\n",
    "            MU.append(mu)\n",
    "    return J,MU"
   ]
  },
  {
   "cell_type": "code",
   "execution_count": 17,
   "metadata": {},
   "outputs": [
    {
     "name": "stdout",
     "output_type": "stream",
     "text": [
      "The minimum costs at stage 0:  [11, 13, 18, 26, 38, 55, 78, 108, 146]\n",
      "Best state to start with at stage 0:  11\n",
      "set of control actions for stage 0:  [0, -1, -1, -2, -2, -2, -2, -2, -2]\n"
     ]
    }
   ],
   "source": [
    "J,MU = Optimalfunction1()\n",
    "print(\"The minimum costs at stage 0: \" ,J[-1])\n",
    "print(\"Best state to start with at stage 0: \", min(J[-1]))\n",
    "print(\"set of control actions for stage 0: \", MU[-1])"
   ]
  },
  {
   "cell_type": "markdown",
   "metadata": {},
   "source": [
    "# (b) Cost-to-go for x4 = 4"
   ]
  },
  {
   "cell_type": "code",
   "execution_count": 19,
   "metadata": {},
   "outputs": [
    {
     "name": "stdout",
     "output_type": "stream",
     "text": [
      "cost to go for x_4 = 4:  146\n"
     ]
    }
   ],
   "source": [
    "# Cost to go for x_4 = 4\n",
    "#print(len(J))\n",
    "print(\"cost to go for x_4 = 4: \", J[-4][-1])"
   ]
  },
  {
   "cell_type": "markdown",
   "metadata": {},
   "source": [
    "# (c) Plots for x0 = {0,1,-4}"
   ]
  },
  {
   "cell_type": "code",
   "execution_count": 27,
   "metadata": {},
   "outputs": [],
   "source": [
    "def optimalpath(x,MU):\n",
    "    NU=[] #first stage\n",
    "    T=[]\n",
    "    NU.append(x)\n",
    "    for i in range(0,15):\n",
    "        #print(NU)\n",
    "        T.append(MU[14-i][x+4])\n",
    "        x = x+MU[14-i][x+4]\n",
    "        NU.append(x)\n",
    "    return NU,T"
   ]
  },
  {
   "cell_type": "code",
   "execution_count": 56,
   "metadata": {},
   "outputs": [
    {
     "name": "stdout",
     "output_type": "stream",
     "text": [
      "Associated Optimal cost for x_0 = 0:  38\n",
      "Associated Optimal cost for x_0 = 1:  55\n",
      "Associated Optimal cost for x_0 = -4:  11\n"
     ]
    },
    {
     "data": {
      "image/png": "[encoded data removed]",
      "text/plain": [
       "<Figure size 432x288 with 1 Axes>"
      ]
     },
     "metadata": {
      "needs_background": "light"
     },
     "output_type": "display_data"
    },
    {
     "data": {
      "image/png": "[encoded data removed]",
      "text/plain": [
       "<Figure size 432x288 with 1 Axes>"
      ]
     },
     "metadata": {
      "needs_background": "light"
     },
     "output_type": "display_data"
    }
   ],
   "source": [
    "J,MU = Optimalfunction1()\n",
    "t = np.arange(0,16)\n",
    "plt.figure(1)\n",
    "plt.xlabel(\"Time\")\n",
    "plt.ylabel(\"States\")\n",
    "plt.plot(t, optimalpath(0,MU)[0], 'aqua',label = \"x_0 = 0\")\n",
    "plt.plot(t, optimalpath(1,MU)[0], 'maroon',label = \"x_0 = 1\")\n",
    "plt.plot(t, optimalpath(-4,MU)[0], 'pink',label = \"x_0 = -4\")\n",
    "plt.legend(loc=\"upper center\")\n",
    "t = np.arange(0,15)\n",
    "plt.figure(2)\n",
    "plt.xlabel(\"Time\")\n",
    "plt.ylabel(\"Control Action\")\n",
    "plt.plot(t, optimalpath(0,MU)[1], 'aqua',label = \"x_0 = 0\")\n",
    "plt.plot(t, optimalpath(1,MU)[1], 'maroon',label = \"x_0 = 1\")\n",
    "plt.plot(t, optimalpath(-4,MU)[1], 'pink',label = \"x_0 = -4\")\n",
    "plt.legend(loc=\"upper center\")\n",
    "\n",
    "print(\"Associated Optimal cost for x_0 = 0: \", J[-1][4])\n",
    "print(\"Associated Optimal cost for x_0 = 1: \", J[-1][5])\n",
    "print(\"Associated Optimal cost for x_0 = -4: \", J[-1][0])"
   ]
  },
  {
   "cell_type": "markdown",
   "metadata": {},
   "source": [
    "# (d) DP when all the terminal costs are 0"
   ]
  },
  {
   "cell_type": "code",
   "execution_count": 59,
   "metadata": {},
   "outputs": [],
   "source": [
    "def Optimalfunction3():\n",
    "    J = [] #List of list for cost at each [stage][state]\n",
    "    MU = [] # Control action at each [stage][state]\n",
    "    for i in range(0,16):\n",
    "        V=[] \n",
    "        mu=[]\n",
    "        if(i == 0):\n",
    "            for j in range(0,S.size):\n",
    "                #if(S[j]==0):\n",
    "                V.append(0) #as Gn(15) = 0 if Xn = 0\n",
    "                #else:\n",
    "                    #V.append(float('inf')) # as Gn(15) = infinity if Xn != 0\n",
    "        else:\n",
    "            for j in range(0,S.size):\n",
    "                jt = float('inf') \n",
    "                c = -4 \n",
    "                for k in range(0,U.size): #iterating over control actions\n",
    "                    xn = S[j]+U[k] #next state based on current state and action\n",
    "                    if(xn<5 and xn>-5): \n",
    "                        j1 = J[-1][xn+4]+(S[j]+4)*(S[j]+4)+U[k]*U[k] \n",
    "                        if(j1<jt):\n",
    "                            c = U[k]\n",
    "                            jt = j1\n",
    "                V.append(jt) # list of cost for each state in the stage \n",
    "                mu.append(c) #list of control for each state in the stage\n",
    "        J.append(V) #2d list of cost[at each stage][for each state] \n",
    "        #print(\"i = %d\" % i)\n",
    "        #print(\"J:\", J)\n",
    "        if(i!=0):\n",
    "            MU.append(mu)\n",
    "    return J,MU"
   ]
  },
  {
   "cell_type": "code",
   "execution_count": 60,
   "metadata": {},
   "outputs": [
    {
     "name": "stdout",
     "output_type": "stream",
     "text": [
      "The minimum costs at stage 0:  [0, 2, 7, 15, 27, 44, 67, 97, 135]\n",
      "Best state to start with at stage 0:  0\n",
      "set of control actions for stage 0:  [0, -1, -1, -2, -2, -2, -2, -2, -2]\n"
     ]
    }
   ],
   "source": [
    "J,MU = Optimalfunction3()\n",
    "print(\"The minimum costs at stage 0: \" ,J[-1])\n",
    "#print(J)\n",
    "print(\"Best state to start with at stage 0: \", min(J[-1]))\n",
    "print(\"set of control actions for stage 0: \", MU[-1])"
   ]
  },
  {
   "cell_type": "markdown",
   "metadata": {},
   "source": [
    "Here, when terminal cost is zero for all the states then we do not need to arrive at Xn = 0 ultimately.\n",
    "\n",
    "Hence, the optimal costs are lesser at the end as there are other optimal paths availble too which are diffetent states other than Xn = 0.\n",
    "\n",
    "The state/control sequences are also differnt because as mentioned above, we do not need to converge at Xn = 0 at the end.\n",
    "\n",
    "we can arrive at any other state of Xn = {-4,-3,-2,-1,0,1,2,3,4} because now the terminal cost of arriving at these states is not infinity."
   ]
  },
  {
   "cell_type": "markdown",
   "metadata": {},
   "source": [
    "###  Plot when all the terminal costs are 0"
   ]
  },
  {
   "cell_type": "code",
   "execution_count": 62,
   "metadata": {},
   "outputs": [
    {
     "name": "stdout",
     "output_type": "stream",
     "text": [
      "Optimal cost for x_0 = 0:  27\n",
      "Optimal cost for x_0 = 1:  44\n",
      "Optimal cost for x_0 = -4:  0\n"
     ]
    },
    {
     "data": {
      "image/png": "[encoded data removed]",
      "text/plain": [
       "<Figure size 432x288 with 1 Axes>"
      ]
     },
     "metadata": {
      "needs_background": "light"
     },
     "output_type": "display_data"
    },
    {
     "data": {
      "image/png": "[encoded data removed]",
      "text/plain": [
       "<Figure size 432x288 with 1 Axes>"
      ]
     },
     "metadata": {
      "needs_background": "light"
     },
     "output_type": "display_data"
    }
   ],
   "source": [
    "#plots\n",
    "J,MU = Optimalfunction3()\n",
    "t = np.arange(0,16)\n",
    "plt.figure(1)\n",
    "plt.xlabel(\"Time\")\n",
    "plt.ylabel(\"States\")\n",
    "plt.plot(t, optimalpath(0,MU)[0], 'aqua',label = \"x_0 = 0\")\n",
    "plt.plot(t, optimalpath(1,MU)[0], 'maroon',label = \"x_0 = 1\")\n",
    "plt.plot(t, optimalpath(-4,MU)[0], 'pink',label = \"x_0 = -4\")\n",
    "plt.legend(loc=\"upper center\")\n",
    "t = np.arange(0,15)\n",
    "plt.figure(2)\n",
    "plt.xlabel(\"Time\")\n",
    "plt.ylabel(\"Control Action\")\n",
    "plt.plot(t, optimalpath(0,MU)[1], 'aqua',label = \"x_0 = 0\")\n",
    "plt.plot(t, optimalpath(1,MU)[1], 'maroon',label = \"x_0 = 1\")\n",
    "plt.plot(t, optimalpath(-4,MU)[1], 'pink',label = \"x_0 = -4\")\n",
    "plt.legend(loc=\"upper center\")\n",
    "\n",
    "print(\"Optimal cost for x_0 = 0: \", J[-1][4])\n",
    "print(\"Optimal cost for x_0 = 1: \", J[-1][5])\n",
    "print(\"Optimal cost for x_0 = -4: \", J[-1][0])"
   ]
  },
  {
   "cell_type": "markdown",
   "metadata": {},
   "source": [
    "# (e) DP when all the terminal costs are 0, and control action not penalized"
   ]
  },
  {
   "cell_type": "code",
   "execution_count": 64,
   "metadata": {},
   "outputs": [],
   "source": [
    "def Optimalfunction2():\n",
    "    J = []\n",
    "    MU = []\n",
    "\n",
    "    for i in range(0,16):\n",
    "        V=[]\n",
    "        mu=[]\n",
    "        if(i == 0):\n",
    "            #cost equal to 0 for all terminal states\n",
    "            for j in range(0,S.size):\n",
    "                V.append(0)\n",
    "        else:\n",
    "            for j in range(0,S.size):\n",
    "                ji = float('inf')\n",
    "                c = -4\n",
    "                for k in range(0,U.size):\n",
    "                    xn = S[j]+U[k]\n",
    "                    if(xn<5 and xn>-5):\n",
    "                        j1 = J[-1][xn+4]+(S[j]+4)*(S[j]+4)\n",
    "                        if(j1<ji):\n",
    "                            c = U[k]\n",
    "                            ji = j1\n",
    "                V.append(ji)\n",
    "                mu.append(c)\n",
    "        J.append(V)\n",
    "        if(i!=0):\n",
    "            MU.append(mu)\n",
    "    return J,MU"
   ]
  },
  {
   "cell_type": "code",
   "execution_count": 65,
   "metadata": {},
   "outputs": [
    {
     "name": "stdout",
     "output_type": "stream",
     "text": [
      "the minimum cost for x: 0\n",
      "set of control actions for stage 0:  [0, -1, -2, -2, -2, -2, -2, -2, -2]\n"
     ]
    }
   ],
   "source": [
    "J,MU = Optimalfunction2()\n",
    "print(\"the minimum cost for x:\" ,min(J[-1]))\n",
    "print(\"set of control actions for stage 0: \", MU[-1])"
   ]
  },
  {
   "cell_type": "markdown",
   "metadata": {},
   "source": [
    "### Plot when all terminal cost = 0, and control action not penalized"
   ]
  },
  {
   "cell_type": "code",
   "execution_count": 66,
   "metadata": {},
   "outputs": [
    {
     "name": "stdout",
     "output_type": "stream",
     "text": [
      "Optimal cost for x_0 = 0:  20\n",
      "Optimal cost for x_0 = 1:  35\n",
      "Optimal cost for x_0 = -4:  0\n"
     ]
    },
    {
     "data": {
      "image/png": "[encoded data removed]",
      "text/plain": [
       "<Figure size 432x288 with 1 Axes>"
      ]
     },
     "metadata": {
      "needs_background": "light"
     },
     "output_type": "display_data"
    },
    {
     "data": {
      "image/png": "[encoded data removed]",
      "text/plain": [
       "<Figure size 432x288 with 1 Axes>"
      ]
     },
     "metadata": {
      "needs_background": "light"
     },
     "output_type": "display_data"
    }
   ],
   "source": [
    "J1,MU1 = Optimalfunction2()\n",
    "#print(min(J1[-1]))\n",
    "#print(J[15-4][4+4])\n",
    "t = np.arange(0,16)\n",
    "plt.figure(1)\n",
    "plt.xlabel(\"Time\")\n",
    "plt.ylabel(\"States\")\n",
    "plt.plot(t, optimalpath(0,MU1)[0], 'aqua',label = \"x_0 = 0\")\n",
    "plt.plot(t, optimalpath(1,MU1)[0], 'maroon',label = \"x_0 = 1\")\n",
    "plt.plot(t, optimalpath(-4,MU1)[0], 'pink',label = \"x_0 = -4\")\n",
    "plt.legend(loc=\"upper right\")\n",
    "t = np.arange(0,15)\n",
    "plt.figure(2)\n",
    "plt.xlabel(\"Time\")\n",
    "plt.ylabel(\"Control Actions\")\n",
    "plt.plot(t, optimalpath(0,MU1)[1], 'aqua',label = \"x_0 = 0\")\n",
    "plt.plot(t, optimalpath(1,MU1)[1], 'maroon',label = \"x_0 = 1\")\n",
    "plt.plot(t, optimalpath(-4,MU1)[1], 'pink',label = \"x_0 = -4\")\n",
    "plt.legend(loc=\"upper right\")\n",
    "\n",
    "print(\"Optimal cost for x_0 = 0: \", J[-1][4])\n",
    "print(\"Optimal cost for x_0 = 1: \", J[-1][5])\n",
    "print(\"Optimal cost for x_0 = -4: \", J[-1][0])"
   ]
  },
  {
   "cell_type": "markdown",
   "metadata": {},
   "source": [
    "As compared to previous cost function, the control input is not being penalized this time.\n",
    "\n",
    "Now the optimal costs are even lesser than both of the previous cases and this is happening because now we have freedom of converging the cost function aggresively due to absence of penalty on control input. \n",
    "\n",
    "For the state sequence we are trying to bring it to -4 (using admissible control action) as soon as possible because in that case our cost is becoming 0 for that stage.\n",
    "\n",
    "For the control sequence, we have freedom to adopt any admissible value without being penalized, hence our goal is just to bring the cost down by pushing the state value to become -4, which in turn reduces cost to zero."
   ]
  },
  {
   "cell_type": "code",
   "execution_count": null,
   "metadata": {},
   "outputs": [],
   "source": []
  }
 ],
 "metadata": {
  "kernelspec": {
   "display_name": "Python 3",
   "language": "python",
   "name": "python3"
  },
  "language_info": {
   "codemirror_mode": {
    "name": "ipython",
    "version": 3
   },
   "file_extension": ".py",
   "mimetype": "text/x-python",
   "name": "python",
   "nbconvert_exporter": "python",
   "pygments_lexer": "ipython3",
   "version": "3.7.4"
  }
 },
 "nbformat": 4,
 "nbformat_minor": 4
}
