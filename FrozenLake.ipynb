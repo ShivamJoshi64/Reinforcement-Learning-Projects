{
 "cells": [
  {
   "cell_type": "markdown",
   "metadata": {},
   "source": [
    "### Practicing RL with OpenAI Gym\n",
    "1. example of importing an environment. here, cart pole model:"
   ]
  },
  {
   "cell_type": "code",
   "execution_count": 1,
   "metadata": {},
   "outputs": [
    {
     "name": "stderr",
     "output_type": "stream",
     "text": [
      "/home/shivam/anaconda3/lib/python3.7/site-packages/gym/logger.py:30: UserWarning: \u001b[33mWARN: You are calling 'step()' even though this environment has already returned done = True. You should always call 'reset()' once you receive 'done = True' -- any further steps are undefined behavior.\u001b[0m\n",
      "  warnings.warn(colorize('%s: %s'%('WARN', msg % args), 'yellow'))\n"
     ]
    }
   ],
   "source": [
    "import gym\n",
    "#import Box2D\n",
    "env = gym.make('CartPole-v0')\n",
    "env.reset()\n",
    "for _ in range(100):\n",
    "    env.render()\n",
    "    env.step(env.action_space.sample()) # take a random action\n",
    "env.close()"
   ]
  },
  {
   "cell_type": "markdown",
   "metadata": {},
   "source": [
    "2. Now we will practice learned RL skills to play FrozenLake game."
   ]
  },
  {
   "cell_type": "markdown",
   "metadata": {},
   "source": [
    "First, import dependencies:"
   ]
  },
  {
   "cell_type": "code",
   "execution_count": 2,
   "metadata": {},
   "outputs": [],
   "source": [
    "import numpy as np\n",
    "import gym\n",
    "import random\n",
    "import time\n",
    "from IPython.display import clear_output"
   ]
  },
  {
   "cell_type": "markdown",
   "metadata": {},
   "source": [
    "Create Environment. \n",
    "Note: with this new object we can do a lot of things, we can:\n",
    "1. Query for information about the environment,\n",
    "2. Sample states and actions, retrieve rewards, and\n",
    "3. Have our agent navigate the environment (FrozenLake).\n"
   ]
  },
  {
   "cell_type": "code",
   "execution_count": 3,
   "metadata": {},
   "outputs": [],
   "source": [
    "env  = gym.make(\"FrozenLake-v0\")"
   ]
  },
  {
   "cell_type": "markdown",
   "metadata": {},
   "source": [
    "Now, we construct Q-Table, initialize all of its values to 0. \n",
    "In Q-Table, \n",
    "\n",
    "-number of rows = size of state space (.ie. all possible states) \n",
    "\n",
    "-number of columns = size of action space(.ie. all possible actions).\n",
    "\n",
    "We are getting this information using env.observation_space.n and env.action_space.n\n"
   ]
  },
  {
   "cell_type": "code",
   "execution_count": 4,
   "metadata": {},
   "outputs": [
    {
     "name": "stdout",
     "output_type": "stream",
     "text": [
      "[[0. 0. 0. 0.]\n",
      " [0. 0. 0. 0.]\n",
      " [0. 0. 0. 0.]\n",
      " [0. 0. 0. 0.]\n",
      " [0. 0. 0. 0.]\n",
      " [0. 0. 0. 0.]\n",
      " [0. 0. 0. 0.]\n",
      " [0. 0. 0. 0.]\n",
      " [0. 0. 0. 0.]\n",
      " [0. 0. 0. 0.]\n",
      " [0. 0. 0. 0.]\n",
      " [0. 0. 0. 0.]\n",
      " [0. 0. 0. 0.]\n",
      " [0. 0. 0. 0.]\n",
      " [0. 0. 0. 0.]\n",
      " [0. 0. 0. 0.]]\n"
     ]
    }
   ],
   "source": [
    "action_space_size = env.action_space.n\n",
    "state_space_size = env.observation_space.n\n",
    "\n",
    "q_table = np.zeros((state_space_size,action_space_size))\n",
    "print(q_table)"
   ]
  },
  {
   "cell_type": "markdown",
   "metadata": {},
   "source": [
    "Now, we will initialize all the required variables of our Q-learning algorithm.\n",
    "\n",
    "Tune these to see how your algorithm behaves. . . "
   ]
  },
  {
   "cell_type": "code",
   "execution_count": 14,
   "metadata": {},
   "outputs": [],
   "source": [
    "num_episodes = 10000\n",
    "max_steps_per_episode = 100\n",
    "\n",
    "learning_rate = 0.2 #(this is alpha --decides how quickly we adopt new learned q-value)\n",
    "discount_rate = 0.99 #(this is gamma --decides how much we discount future rewards)\n",
    "\n",
    "# following are variables for epsilon-greedy strategy:\n",
    "exploration_rate = 1 \n",
    "max_exploration_rate = 1\n",
    "min_exploration_rate = 0.01\n",
    "exploration_decay_rate = 0.01\n"
   ]
  },
  {
   "cell_type": "markdown",
   "metadata": {},
   "source": [
    "Important in-build functions:\n",
    "\n",
    "### 1. step( ) function\n",
    "\n",
    " The * environment’s * step function returns exactly what we need. In fact, step returns four values. These are:\n",
    "##### observation (object):\n",
    "an environment-specific object representing your observation of the environment. For example, pixel data from a camera, joint angles and joint velocities of a robot, or the board state in a board game.\n",
    "####    reward (float):\n",
    "amount of reward achieved by the previous action. The scale varies between environments, but the goal is always to increase your total reward.\n",
    "####    done (boolean): \n",
    "whether it’s time to reset the environment again. Most (but not all) tasks are divided up into well-defined episodes, and done being True indicates the episode has terminated. (For example, perhaps the pole tipped too far, or you lost your last life.)\n",
    "####    info (dict): \n",
    "diagnostic information useful for debugging. It can sometimes be useful for learning (for example, it might contain the raw probabilities behind the environment’s last state change). However, official evaluations of your agent are not allowed to use this for learning.\n"
   ]
  },
  {
   "cell_type": "code",
   "execution_count": 15,
   "metadata": {},
   "outputs": [
    {
     "name": "stdout",
     "output_type": "stream",
     "text": [
      "****** Average reward of 1000 episodes ******\n",
      "\n",
      "1000 :  0.5190000000000003\n",
      "2000 :  0.6760000000000005\n",
      "3000 :  0.6400000000000005\n",
      "4000 :  0.6750000000000005\n",
      "5000 :  0.6910000000000005\n",
      "6000 :  0.6830000000000005\n",
      "7000 :  0.6680000000000005\n",
      "8000 :  0.6680000000000005\n",
      "9000 :  0.6480000000000005\n",
      "10000 :  0.6660000000000005\n",
      "*** Q-table ***\n",
      "\n",
      "[[0.56334964 0.47729182 0.49517438 0.48374302]\n",
      " [0.23954653 0.24099427 0.25940169 0.46358531]\n",
      " [0.33653257 0.36447568 0.40102227 0.43001606]\n",
      " [0.28009886 0.3390946  0.33329062 0.42043122]\n",
      " [0.56942563 0.31245055 0.31881583 0.34389535]\n",
      " [0.         0.         0.         0.        ]\n",
      " [0.27001621 0.09030798 0.11085526 0.10945093]\n",
      " [0.         0.         0.         0.        ]\n",
      " [0.34061865 0.49539219 0.3976969  0.59916974]\n",
      " [0.4153361  0.68267982 0.48971283 0.45717819]\n",
      " [0.70021702 0.0992978  0.37185644 0.21903668]\n",
      " [0.         0.         0.         0.        ]\n",
      " [0.         0.         0.         0.        ]\n",
      " [0.40355408 0.34558618 0.74172148 0.35737937]\n",
      " [0.76066598 0.82426197 0.77886394 0.77615036]\n",
      " [0.         0.         0.         0.        ]]\n",
      "time taken:  10.508282661437988\n"
     ]
    }
   ],
   "source": [
    "t0 = time.time()\n",
    "rewards_all_episodes = [] \n",
    "'''10000 element list to hold all rewards we'll get from each\n",
    "episode from 1 to 10000. Shows how our games scores(rewards) change overtime'''\n",
    "\n",
    "# Q-learning Algorithm\n",
    "for episode in range(num_episodes):\n",
    "    state = env.reset() # The process gets started by calling reset(), \n",
    "                        #  which returns an initial observation. \n",
    "    done = False\n",
    "    rewards_current_episode = 0\n",
    "    \n",
    "    for step in range(max_steps_per_episode):\n",
    "        \n",
    "        # Exploration VS Exploitation trade-off\n",
    "        exploration_rate_threshold = random.uniform(0,1) # choosing r\n",
    "        \n",
    "        if exploration_rate_threshold > exploration_rate:\n",
    "            action = np.argmax(q_table[state,:]) # exploit. here, argmax() returns max element from list\n",
    "        else:\n",
    "            action = env.action_space.sample() # sample() = Randomly sample an element of this space.\n",
    "        \n",
    "        new_state, reward, done, info = env.step(action)\n",
    "        \n",
    "        # Update Q-table for Q(s,a)\n",
    "        q_table[state,action] = q_table[state,action] * (1 - learning_rate) + learning_rate * (reward + discount_rate * np.max(q_table[new_state,:]))\n",
    "        \n",
    "        state = new_state\n",
    "        rewards_current_episode += reward\n",
    "        \n",
    "        if done == True:\n",
    "            break\n",
    "            \n",
    "    # Exploration rate decay\n",
    "    exploration_rate = min_exploration_rate + (max_exploration_rate - min_exploration_rate) * np.exp(-exploration_decay_rate*episode)\n",
    "    \n",
    "    rewards_all_episodes.append(rewards_current_episode)\n",
    "\n",
    "t1 = time.time()\n",
    "time_taken = t1 - t0\n",
    "# Calculate and print the average reward per thousand episodes\n",
    "rewards_per_thousand_episodes = np.split(np.array(rewards_all_episodes),num_episodes/1000)\n",
    "count = 1000\n",
    "print(\"****** Average reward of 1000 episodes ******\\n\")\n",
    "for r in rewards_per_thousand_episodes:\n",
    "    print(count, \": \", str(sum(r/1000)))\n",
    "    count+=1000\n",
    "    \n",
    "# Print Updated Q-table\n",
    "print(\"*** Q-table ***\\n\")\n",
    "print(q_table)\n",
    "print(\"time taken: \", time_taken)\n"
   ]
  },
  {
   "cell_type": "code",
   "execution_count": 11,
   "metadata": {},
   "outputs": [
    {
     "name": "stdout",
     "output_type": "stream",
     "text": [
      "  (Left)\n",
      "SFFF\n",
      "FHFH\n",
      "FFFH\n",
      "\u001b[41mH\u001b[0mFFG\n",
      "your reached hole\n"
     ]
    }
   ],
   "source": [
    "# Visualize\n",
    "for episode in range(3):\n",
    "    state = env.reset()\n",
    "    done = False\n",
    "    print(\"**** Episode \", episode + 1, \"***\\n\\n\")\n",
    "    time.sleep(1)\n",
    "    \n",
    "    for step in range(max_steps_per_episode):\n",
    "        clear_output(wait = True)\n",
    "        env.render()\n",
    "        time.sleep(0.3)\n",
    "        \n",
    "        action = np.argmax(q_table[state,:])\n",
    "        new_state, reward, done, info = env.step(action)\n",
    "        \n",
    "        if done:\n",
    "            clear_output(wait = True)\n",
    "            env.render()\n",
    "            if reward == 1:\n",
    "                print(\"You reached the goal\")\n",
    "                time.sleep(3)\n",
    "            else:\n",
    "                print(\"your reached hole\")\n",
    "                time.sleep(3)\n",
    "            clear_output(wait = True)\n",
    "            break\n",
    "            \n",
    "        state = new_state\n",
    "        \n",
    "env.close()"
   ]
  },
  {
   "cell_type": "code",
   "execution_count": null,
   "metadata": {},
   "outputs": [],
   "source": []
  }
 ],
 "metadata": {
  "kernelspec": {
   "display_name": "Python 3",
   "language": "python",
   "name": "python3"
  },
  "language_info": {
   "codemirror_mode": {
    "name": "ipython",
    "version": 3
   },
   "file_extension": ".py",
   "mimetype": "text/x-python",
   "name": "python",
   "nbconvert_exporter": "python",
   "pygments_lexer": "ipython3",
   "version": "3.7.4"
  }
 },
 "nbformat": 4,
 "nbformat_minor": 2
}
