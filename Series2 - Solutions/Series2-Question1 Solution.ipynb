{
 "cells": [
  {
   "cell_type": "markdown",
   "metadata": {},
   "source": [
    "# Series 2 Exercise 1 Solution\n",
    "## 1. Checking Stability of the system"
   ]
  },
  {
   "cell_type": "markdown",
   "metadata": {},
   "source": [
    "The given set of equations for three systems will be stable by themseleves if the absoulute value of all eigen values of the system (without controls) are less than 1. i.e. $| \\lambda |< 1$ "
   ]
  },
  {
   "cell_type": "markdown",
   "metadata": {},
   "source": [
    "### 1) For the first system:\n",
    "$$ A =  \\begin{bmatrix} 0.5 & 0 & 0.5 \\\\ 0 & 0 & 2 \\\\ 4 & 2 & 1 \\end{bmatrix} $$"
   ]
  },
  {
   "cell_type": "code",
   "execution_count": 4,
   "metadata": {},
   "outputs": [
    {
     "name": "stdout",
     "output_type": "stream",
     "text": [
      "Eigen values:  [ 3.07645685  0.33933645 -1.91579331]\n",
      "Abs Eig1:  3.0764568544408957\n",
      "Abs Eig2:  0.3393364524664816\n",
      "Abs Eig3:  1.9157933069073763\n"
     ]
    }
   ],
   "source": [
    "import numpy as np\n",
    "A = np.array([[0.5,0.,0.5],[0.,0.,2.0],[4.,2.,1.]])\n",
    "Eig, Ev = np.linalg.eig(A)\n",
    "print('Eigen values: ',Eig)\n",
    "print('Abs Eig1: ',np.absolute(Eig[0]))\n",
    "print('Abs Eig2: ',np.absolute(Eig[1]))\n",
    "print('Abs Eig3: ',np.absolute(Eig[2]))"
   ]
  },
  {
   "cell_type": "markdown",
   "metadata": {},
   "source": [
    "Hence, this system is not stable as two of the eigen values are greater than 1."
   ]
  },
  {
   "cell_type": "markdown",
   "metadata": {},
   "source": [
    "### 2) For the second system:\n",
    "$$ A =  \\begin{bmatrix} 0.5 & 0 & 0.5 \\\\ 0 & 0 & -0.5 \\\\ 0.5 & 0.5 & 0.5 \\end{bmatrix} $$"
   ]
  },
  {
   "cell_type": "code",
   "execution_count": 5,
   "metadata": {},
   "outputs": [
    {
     "name": "stdout",
     "output_type": "stream",
     "text": [
      "Eigen values:  [0.87743883+0.j         0.06128058+0.37243088j 0.06128058-0.37243088j]\n",
      "Abs Eig1:  0.8774388331233467\n",
      "Abs Eig2:  0.37743883312334653\n",
      "Abs Eig3:  0.37743883312334653\n"
     ]
    }
   ],
   "source": [
    "A = np.array([[0.5,0.,0.5],[0.,0.,-.50],[0.5,0.5,0.5]]) \n",
    "Eig, Ev = np.linalg.eig(A)\n",
    "print('Eigen values: ',Eig)\n",
    "print('Abs Eig1: ',np.absolute(Eig[0]))\n",
    "print('Abs Eig2: ',np.absolute(Eig[1]))\n",
    "print('Abs Eig3: ',np.absolute(Eig[2]))"
   ]
  },
  {
   "cell_type": "markdown",
   "metadata": {},
   "source": [
    "Hence, this system is stable as all of the eigen values are less than 1."
   ]
  },
  {
   "cell_type": "markdown",
   "metadata": {},
   "source": [
    "### 3) For the third system:\n",
    "$$ A =  \\begin{bmatrix} 2 & 0 & 0. \\\\ 0 & 0 & -2 \\\\ 1 & 1 & 0 \\end{bmatrix} $$"
   ]
  },
  {
   "cell_type": "code",
   "execution_count": 6,
   "metadata": {},
   "outputs": [
    {
     "name": "stdout",
     "output_type": "stream",
     "text": [
      "Eigen values:  [0.+1.41421356j 0.-1.41421356j 2.+0.j        ]\n",
      "Abs Eig1:  1.4142135623730951\n",
      "Abs Eig2:  1.4142135623730951\n",
      "Abs Eig3:  2.0\n"
     ]
    }
   ],
   "source": [
    "A = np.array([[2.0,0.,0.],[0.,0.,-2],[1.,1.,0.]]) \n",
    "Eig, Ev = np.linalg.eig(A)\n",
    "print('Eigen values: ',Eig)\n",
    "print('Abs Eig1: ',np.absolute(Eig[0]))\n",
    "print('Abs Eig2: ',np.absolute(Eig[1]))\n",
    "print('Abs Eig3: ',np.absolute(Eig[2]))"
   ]
  },
  {
   "cell_type": "markdown",
   "metadata": {},
   "source": [
    "Hence, this system is not stable as allthe eigen values are greater than 1."
   ]
  },
  {
   "cell_type": "markdown",
   "metadata": {},
   "source": [
    "## 2. Checking Controllability of the system "
   ]
  },
  {
   "cell_type": "markdown",
   "metadata": {},
   "source": [
    "A dynamic system is controllable if the controllability matrix composed out of it has full rank. This also signifies the controllability of the system which is ability of the system to be driven from a starting state to any desired state."
   ]
  },
  {
   "cell_type": "code",
   "execution_count": 7,
   "metadata": {},
   "outputs": [],
   "source": [
    "def check_controllability(A,B):\n",
    "    \"\"\"\n",
    "    This function checks the controllability for system\n",
    "    C=[B AB A^2B] controllability matrix\n",
    "    \"\"\"\n",
    "    C = np.concatenate([B, np.dot(A, B), np.dot(A, A).dot(B)], axis=1)\n",
    "    Rank = np.linalg.matrix_rank(C)\n",
    "    print('rank is',Rank)\n",
    "    if Rank< np.linalg.matrix_rank(A):\n",
    "        print('System is not controllable')\n",
    "    else:print('System is controllable')"
   ]
  },
  {
   "cell_type": "markdown",
   "metadata": {},
   "source": [
    "### 1) For the first system:"
   ]
  },
  {
   "cell_type": "markdown",
   "metadata": {},
   "source": [
    "\n",
    "$$ A =  \\begin{bmatrix} 2 & 0 & 0. \\\\ 0 & 0 & -2 \\\\ 1 & 1 & 0 \\end{bmatrix}  \\text{ and }  B =  \\begin{bmatrix} 0 & 0 \\\\ 1 & 0 \\\\ 0 & 1 \\end{bmatrix} $$"
   ]
  },
  {
   "cell_type": "code",
   "execution_count": 8,
   "metadata": {
    "scrolled": true
   },
   "outputs": [
    {
     "name": "stdout",
     "output_type": "stream",
     "text": [
      "rank is 3\n",
      "System is controllable\n"
     ]
    }
   ],
   "source": [
    "A = np.array([[0.5,0.,0.5],[0.,0.,2.0],[4.,2.,1.]])\n",
    "B = np.array([[0.,0.],[1.,0.],[0.,1.]])\n",
    "check_controllability(A,B)"
   ]
  },
  {
   "cell_type": "markdown",
   "metadata": {},
   "source": [
    "### 1) For the second system:"
   ]
  },
  {
   "cell_type": "markdown",
   "metadata": {},
   "source": [
    "\n",
    "$$ A =  \\begin{bmatrix} 0.5 & 0 & 0.5 \\\\ 0 & 0 & -0.5 \\\\ 0.5 & 0.5 & 0.5 \\end{bmatrix}  \\text{ and }  B =  \\begin{bmatrix} 0 & 0 \\\\ 1 & 0 \\\\ 0 & 1 \\end{bmatrix} $$"
   ]
  },
  {
   "cell_type": "code",
   "execution_count": 9,
   "metadata": {
    "scrolled": false
   },
   "outputs": [
    {
     "name": "stdout",
     "output_type": "stream",
     "text": [
      "rank is 3\n",
      "System is controllable\n"
     ]
    }
   ],
   "source": [
    "A = np.array([[0.5,0.,0.5],[0.,0.,-.50],[0.5,0.5,0.5]]) \n",
    "B = np.array([[0.,0.],[1.,0.],[0.,1.]])\n",
    "check_controllability(A,B)"
   ]
  },
  {
   "cell_type": "markdown",
   "metadata": {},
   "source": [
    "### 1) For the third system:"
   ]
  },
  {
   "cell_type": "markdown",
   "metadata": {},
   "source": [
    "\n",
    "$$ A =  \\begin{bmatrix} 2 & 0 & 0. \\\\ 0 & 0 & -2 \\\\ 1 & 1 & 0 \\end{bmatrix}  \\text{ and }  B =  \\begin{bmatrix} 0 & 0 \\\\ 1 & 0 \\\\ 0 & 1 \\end{bmatrix} $$"
   ]
  },
  {
   "cell_type": "code",
   "execution_count": 10,
   "metadata": {
    "scrolled": false
   },
   "outputs": [
    {
     "name": "stdout",
     "output_type": "stream",
     "text": [
      "rank is 2\n",
      "System is not controllable\n"
     ]
    }
   ],
   "source": [
    "A = np.array([[2.0,0.,0.],[0.,0.,-2],[1.,1.,0.]]) \n",
    "B = np.array([[0.,0.],[1.,0.],[0.,1.]])\n",
    "check_controllability(A,B)"
   ]
  },
  {
   "cell_type": "markdown",
   "metadata": {},
   "source": [
    "## 3. Driving the system to the origin from any initial conditions"
   ]
  },
  {
   "cell_type": "markdown",
   "metadata": {},
   "source": [
    "For LQR implementation, we need a linear system with quadratic cost function. In cases where the cost function is not quadratic, we can linearize a system about a fixed point(origin in this case) and drive it desirably. \n",
    "If it is given that the cost involved with the system is of quadratic nature:\n",
    "1. For the first system, since it is controllable, using LQR design we can drive the system from any point to any other point. \n",
    "2. Similarly, second system can also be driven from one state to another(and to origin).\n",
    "3. as system three is not controlllable, we can not drive it to a particular desired point.\n",
    "\n",
    "Horizon lenghts are dependent on the cost function and horizon length is computed for one such cost function in the following section. "
   ]
  },
  {
   "cell_type": "markdown",
   "metadata": {},
   "source": [
    "## 4. compute the optimal control policy to minimize the following cost function\n",
    "cost function:\n",
    "$$ \\Sigma^{\\infty}_{n=0} = 100\\bf{x}^T_n\\vec{x}_n + u^T_n.u_n $$\n",
    "What are the optimal gains? Simulate the uncontrolled and controlled system use \n",
    "$$x_0 = [10, 10, 10]^T $$\n",
    "and plot the time evolution of\n",
    "$$x_n \\text{ and } {u_n} $$ \n",
    "Discuss the simulation results with respect to the answer to the previous question"
   ]
  },
  {
   "cell_type": "code",
   "execution_count": 7,
   "metadata": {},
   "outputs": [],
   "source": [
    "import numpy as np\n",
    "import matplotlib.pyplot as plt\n",
    "\n",
    "\n",
    "def ricatti_converger(A, B, Q, R):  \n",
    "    \"\"\"\n",
    "    This function solves the backward Riccatti equations for regulator problems of the form\n",
    "    min xQx + sum(xQx + uRu) subject to xn+1 = Axn + Bun\n",
    "\n",
    "    Arguments:\n",
    "    A, B, Q, R: numpy arrays defining the problem\n",
    "\n",
    "\n",
    "\n",
    "    \"\"\"\n",
    "    P = []  # will contain the list of Ps from N to 0\n",
    "    K = []  # will contain the list of Ks from N-1 to 0\n",
    "\n",
    "    Infinite_State = 1 \n",
    "    Pn = Q  \n",
    "    P.append(Pn)\n",
    "    Boolean_condition = True  \n",
    "    Kn_plus_1 = np.array([])\n",
    "    Pn_plus_1 = np.array([])  \n",
    "    while Infinite_State > 0 and Boolean_condition:\n",
    "        Kn = -1 * np.linalg.inv(R + np.dot(B.T, Pn).dot(B)).dot(np.dot(B.T, Pn).dot(A))  #comment the equation here\n",
    "        if len(K) > 0:\n",
    "            Kn_plus_1 = K[-1]\n",
    "        K.append(Kn)\n",
    "        Pn = Q + np.dot(A.T, Pn).dot(A) + np.dot(np.dot(np.dot(A.T, Pn), B), Kn)\n",
    "        if len(P) > 0:\n",
    "            Pn_plus_1 = P[-1]\n",
    "        P.append(Pn)\n",
    "        normk = (round(np.linalg.norm(Kn), 8))  # other methods to round off\n",
    "        normk1 = (round(np.linalg.norm(Kn_plus_1), 8))\n",
    "        normp = (round(np.linalg.norm(Pn), 8))\n",
    "        normp1 = (round(np.linalg.norm(Pn_plus_1), 8))\n",
    "        if len(Kn_plus_1) > 0 and len(Pn_plus_1) > 0:\n",
    "            if normk == normk1 and normp == normp1:\n",
    "                Boolean_condition = False\n",
    "                converged_K = Kn  # converged_K\n",
    "                converged_P = Pn  # converged_P\n",
    "                print(\"Optimal Gain, K =\", converged_K[-1,])\n",
    "                #print(\" P =\", converged_P)\n",
    "        \n",
    "        Infinite_State = Infinite_State + 1\n",
    "    print(\"Horizon =\", Infinite_State)\n",
    "    return converged_P, converged_K\n",
    "\n",
    "\n",
    "def system_output_nc( A,B,x0, K): \n",
    "    \"\"\"\n",
    "    This function calculates the state xn for each step with 0 control\n",
    "    xn+1 = Axn\n",
    "    un=Kn*xn\n",
    "    Arguments:\n",
    "    A, B, x0, K\n",
    "\n",
    "    Returns:\n",
    "    X: list of numpy arrays containing states xn from 0 to N\n",
    "    time: list of numpy arrays containing time step from 0 to N\n",
    "    \"\"\"\n",
    "    X = np.zeros([x0.size, horizon_length])\n",
    "    xn = x0\n",
    "    time = []\n",
    "    for i in range(horizon_length):\n",
    "        X[:, i] = xn\n",
    "        xn = A.dot(xn) \n",
    "        time.append(i)\n",
    "    return X, time\n",
    "\n",
    "\n",
    "def xn_plus_1(A, B, x0, K):  \n",
    "    \"\"\"\n",
    "    This function calculates the state xn for each step\n",
    "    xn+1 = Axn + Bun\n",
    "    un=Kn*xn\n",
    "    Arguments:\n",
    "    A, B, x0, K\n",
    "\n",
    "    Returns:\n",
    "    X: list of numpy arrays containing states xn from 0 to N\n",
    "    time: list of numpy arrays containing time step from 0 to N\n",
    "    \"\"\"\n",
    "    X = np.zeros([x0.size, horizon_length])\n",
    "    u = []\n",
    "    xn = x0\n",
    "    time = []\n",
    "    for i in range(horizon_length):\n",
    "        X[:, i] = xn\n",
    "        u.append(K.dot(xn))\n",
    "        xn = A.dot(xn) + B.dot(K.dot(xn))\n",
    "        time.append(i)\n",
    "\n",
    "    return X, u, time"
   ]
  },
  {
   "cell_type": "markdown",
   "metadata": {},
   "source": [
    "### 1) For the first system:"
   ]
  },
  {
   "cell_type": "code",
   "execution_count": 8,
   "metadata": {},
   "outputs": [
    {
     "name": "stdout",
     "output_type": "stream",
     "text": [
      "Optimal Gain, K = [-4.08970916 -1.98540176 -1.12620475]\n",
      "Horizon = 16\n"
     ]
    },
    {
     "data": {
      "image/png": "[encoded data removed]",
      "text/plain": [
       "<Figure size 432x576 with 3 Axes>"
      ]
     },
     "metadata": {
      "needs_background": "light"
     },
     "output_type": "display_data"
    }
   ],
   "source": [
    "x0 = np.array([10., 10., 10.])\n",
    "Q = np.eye(3) * 100\n",
    "R = 1 * np.eye(1)\n",
    "A1 = np.array([[0.5, 0., 0.5], [0., 0, -2], [4, 2, 1]])\n",
    "B1 = np.array([[0., 0.], [1., 0.], [0., 1.]])\n",
    "horizon_length = 35\n",
    "P1, K1 = ricatti_converger(A1, B1, Q, R)\n",
    "X, u, time = xn_plus_1(A1, B1, x0, K1)\n",
    "X_no_contrl, time = system_output_nc(A1, B1, x0, K1)\n",
    "plt.figure(figsize=(6, 8))\n",
    "plt.subplots_adjust(wspace=0, hspace=0.5)\n",
    "plt.subplot(3, 1, 1)\n",
    "plt.plot(time, X[0, :])\n",
    "plt.plot(time, X[1, :])\n",
    "plt.plot(time, X[2, :])\n",
    "plt.ylabel('xn')\n",
    "plt.title('With optimal controller')\n",
    "plt.xlabel('Time')\n",
    "plt.subplot(3, 1, 2)\n",
    "plt.plot(time, X_no_contrl[0, :])\n",
    "plt.plot(time, X_no_contrl[1, :])\n",
    "plt.plot(time, X_no_contrl[2, :])\n",
    "plt.ylabel('xn')\n",
    "plt.title('No controller')\n",
    "plt.xlabel('Time')\n",
    "plt.subplot(3, 1, 3)\n",
    "plt.plot(time, u)\n",
    "plt.title('Time evolution of un')\n",
    "plt.xlabel('Time')\n",
    "plt.ylabel('un')\n",
    "plt.show()\n"
   ]
  },
  {
   "cell_type": "markdown",
   "metadata": {},
   "source": [
    "### 2) For the second system:"
   ]
  },
  {
   "cell_type": "code",
   "execution_count": 9,
   "metadata": {},
   "outputs": [
    {
     "name": "stdout",
     "output_type": "stream",
     "text": [
      "Optimal Gain, K = [-0.61394449 -0.49625189 -0.6176926 ]\n",
      "Horizon = 15\n"
     ]
    },
    {
     "data": {
      "image/png": "[encoded data removed]",
      "text/plain": [
       "<Figure size 432x576 with 3 Axes>"
      ]
     },
     "metadata": {
      "needs_background": "light"
     },
     "output_type": "display_data"
    }
   ],
   "source": [
    "x0 = np.array([10., 10., 10.])\n",
    "Q = np.eye(3) * 100\n",
    "R = 1 * np.eye(1)\n",
    "A2 = np.array([[0.5, 0., 0.5], [0., 0, -0.5], [0.5, 0.5, 0.5]])\n",
    "B2 = np.array([[0., 0.], [1., 0.], [0., 1.]])\n",
    "horizon_length = 35\n",
    "P2, K2 = ricatti_converger(A2, B2, Q, R)\n",
    "X, u, time = xn_plus_1(A2, B2, x0, K2)\n",
    "X_no_contrl, time = system_output_nc(A2, B2, x0, K2)\n",
    "\n",
    "# PLOTS\n",
    "plt.figure(figsize=(6, 8))\n",
    "plt.subplots_adjust(wspace=0, hspace=0.5)\n",
    "plt.subplot(3, 1, 1)\n",
    "plt.plot(time, X[0, :])\n",
    "plt.plot(time, X[1, :])\n",
    "plt.plot(time, X[2, :])\n",
    "plt.ylabel('xn')\n",
    "plt.title('With optimal controller')\n",
    "plt.xlabel('Time')\n",
    "plt.subplot(3, 1, 2)\n",
    "plt.plot(time, X_no_contrl[0, :])\n",
    "plt.plot(time, X_no_contrl[1, :])\n",
    "plt.plot(time, X_no_contrl[2, :])\n",
    "plt.ylabel('xn')\n",
    "plt.title('No controller')\n",
    "plt.xlabel('Time')\n",
    "plt.subplot(3, 1, 3)\n",
    "plt.plot(time, u)\n",
    "plt.title('Time evolution of un')\n",
    "plt.xlabel('Time')\n",
    "plt.ylabel('un')\n",
    "plt.show()\n"
   ]
  },
  {
   "cell_type": "markdown",
   "metadata": {},
   "source": [
    "### 3) For the third system:"
   ]
  },
  {
   "cell_type": "code",
   "execution_count": 15,
   "metadata": {},
   "outputs": [
    {
     "name": "stdout",
     "output_type": "stream",
     "text": [
      "Optimal Gain, K = [-0.95385463 -0.99037846 -0.01924307]\n",
      "Horizon = 255\n"
     ]
    },
    {
     "data": {
      "image/png": "[encoded data removed]",
      "text/plain": [
       "<Figure size 432x576 with 3 Axes>"
      ]
     },
     "metadata": {
      "needs_background": "light"
     },
     "output_type": "display_data"
    }
   ],
   "source": [
    "\n",
    "x0 = np.array([10., 10., 10.])\n",
    "Q = np.eye(3) * 100\n",
    "R = 1 * np.eye(1)\n",
    "A3 = np.array([[2, 0, 0], [0, 0, -2], [1, 1, 0]])\n",
    "B3 = np.array([[0., 0.], [1., 0.], [0., 1.]])\n",
    "horizon_length = 35\n",
    "P3, K3 = ricatti_converger(A3, B3, Q, R)\n",
    "X, u, time = xn_plus_1(A3, B3, x0, K3)\n",
    "X_no_contrl, time = system_output_nc(A3, B3, x0, K3)\n",
    "plt.figure(figsize=(6, 8))\n",
    "plt.subplots_adjust(wspace=0, hspace=0.5)\n",
    "plt.subplot(3, 1, 1)\n",
    "plt.plot(time, X[0, :])\n",
    "plt.plot(time, X[1, :])\n",
    "plt.plot(time, X[2, :])\n",
    "plt.ylabel('xn')\n",
    "plt.title('With optimal controller')\n",
    "plt.xlabel('Time')\n",
    "plt.subplot(3, 1, 2)\n",
    "plt.plot(time, X_no_contrl[0, :])\n",
    "plt.plot(time, X_no_contrl[1, :])\n",
    "plt.plot(time, X_no_contrl[2, :])\n",
    "plt.ylabel('xn')\n",
    "plt.title('No controller')\n",
    "plt.xlabel('Time')\n",
    "plt.subplot(3, 1, 3)\n",
    "plt.plot(time, u)\n",
    "plt.title('Time evolution of un')\n",
    "plt.xlabel('Time')\n",
    "plt.ylabel('un')\n",
    "plt.show()\n"
   ]
  },
  {
   "cell_type": "code",
   "execution_count": null,
   "metadata": {},
   "outputs": [],
   "source": []
  },
  {
   "cell_type": "code",
   "execution_count": null,
   "metadata": {},
   "outputs": [],
   "source": []
  },
  {
   "cell_type": "code",
   "execution_count": null,
   "metadata": {},
   "outputs": [],
   "source": []
  }
 ],
 "metadata": {
  "kernelspec": {
   "display_name": "Python 3",
   "language": "python",
   "name": "python3"
  },
  "language_info": {
   "codemirror_mode": {
    "name": "ipython",
    "version": 3
   },
   "file_extension": ".py",
   "mimetype": "text/x-python",
   "name": "python",
   "nbconvert_exporter": "python",
   "pygments_lexer": "ipython3",
   "version": "3.7.4"
  }
 },
 "nbformat": 4,
 "nbformat_minor": 2
}
