{
 "cells": [
  {
   "cell_type": "markdown",
   "metadata": {},
   "source": [
    "# DQN using OpenAI Gym and PyTorch\n",
    "1. We will use __DQN to control a cartpole model__. Here, the cart-pole model without optimization behaves as follows:"
   ]
  },
  {
   "cell_type": "code",
   "execution_count": 1,
   "metadata": {},
   "outputs": [
    {
     "name": "stderr",
     "output_type": "stream",
     "text": [
      "/home/shivam/anaconda3/lib/python3.7/site-packages/gym/logger.py:30: UserWarning: \u001b[33mWARN: You are calling 'step()' even though this environment has already returned done = True. You should always call 'reset()' once you receive 'done = True' -- any further steps are undefined behavior.\u001b[0m\n",
      "  warnings.warn(colorize('%s: %s'%('WARN', msg % args), 'yellow'))\n"
     ]
    }
   ],
   "source": [
    "import gym\n",
    "#import Box2D\n",
    "env = gym.make('CartPole-v0')\n",
    "env.reset()\n",
    "for _ in range(100):\n",
    "    env.render()\n",
    "    env.step(env.action_space.sample()) # take a random action\n",
    "env.close()"
   ]
  },
  {
   "cell_type": "markdown",
   "metadata": {},
   "source": [
    "2. Now we will __import all required libraries__ to get started with DQN for cart-pole model.\n",
    "\n",
    "Some Important things to notice here are:\n",
    "\n",
    "We will use PyTorch neural network API for our networks. And this notebook is loosely based on DQN tutorial on __[https://pytorch.org/tutorials/intermediate/reinforcement_q_learning.html]__ (PyTorch’s website)\n",
    "\n",
    "And we are using gym library from open.ai.\n"
   ]
  },
  {
   "cell_type": "code",
   "execution_count": 2,
   "metadata": {},
   "outputs": [],
   "source": [
    "%matplotlib inline\n",
    "import numpy as np\n",
    "import gym\n",
    "import random\n",
    "import time\n",
    "import math\n",
    "import matplotlib\n",
    "import matplotlib.pyplot as plt\n",
    "from collections import namedtuple\n",
    "from itertools import count\n",
    "from PIL import Image\n",
    "import torch\n",
    "import torch.nn as nn\n",
    "import torch.optim as optim\n",
    "import torch.nn.functional as F\n",
    "import torchvision.transforms as T"
   ]
  },
  {
   "cell_type": "markdown",
   "metadata": {},
   "source": [
    "3. Here we take measures to setup display"
   ]
  },
  {
   "cell_type": "code",
   "execution_count": 3,
   "metadata": {},
   "outputs": [],
   "source": [
    "is_ipython = 'inline' in matplotlib.get_backend()\n",
    "if is_ipython: from IPython import display "
   ]
  },
  {
   "cell_type": "markdown",
   "metadata": {},
   "source": [
    "### Neural-Network using PyTorch\n",
    "4. the __nn package__ imported earlier consists all the essential things to make a neural network. We have a class called *__Module__* in nn which is the base class for all NN modules, hence our network and all of its layers will extend this class. There are few things to note here:\n",
    "    * Our DQN will receive screenshot like images of cart-pole as inputs, so we decide the Height and Width of these image imputs in the *__init__()*\n",
    "    * We'll have 2 fully connnected layers *__fc__*(linear layers) and one output layer.\n",
    "    * $1^{st}$ layer will take in image(height x width x 3) inputs, 3 for RBG color channels and 24 outputs.\n",
    "    * $2^{nd}$ layer = 24 inputs, 32 outputs.\n",
    "    * Output layer = 32 inputs, 2 outputs. 2 outputs = {move_left, move_right} to the cartpole.  \n",
    "    \n",
    "Moreover, we have forward() for forward pass to the network. It first flattens the image tensor(t) and then performs ReLU on them."
   ]
  },
  {
   "cell_type": "code",
   "execution_count": 4,
   "metadata": {},
   "outputs": [],
   "source": [
    "class DQN(nn.Module):\n",
    "    def __init__(self, img_height, img_width):\n",
    "        super().__init__()\n",
    "        \n",
    "        self.fc1 = nn.Linear(in_features=img_height*img_width*3, out_features=24)\n",
    "        self.fc2 = nn.Linear(in_features=24, out_features=24)\n",
    "        #self.fc3 = nn.Linear(in_features=32, out_features=32)\n",
    "        self.out = nn.Linear(in_features=24, out_features=2)\n",
    "       \n",
    "        \n",
    "    def forward(self, t):\n",
    "        t = t.flatten(start_dim=1)\n",
    "        t = F.relu(self.fc1(t))\n",
    "        t = F.relu(self.fc2(t))\n",
    "        t = self.out(t)\n",
    "        \n",
    "        return t"
   ]
  },
  {
   "cell_type": "markdown",
   "metadata": {},
   "source": [
    "5. Here, we create experiences from the replay memory in order to train our network. We implement __Experience__ class from where we can create instances of experience objects that can be stored in and sampled from replay memory.\n",
    "    * Here, namedtuple() creates tuples with named fields, and it return a tuple subclass called 'Experience'. This 'Experience' will then be used to create tuple-like objects with fields: state, action, next_state, reward."
   ]
  },
  {
   "cell_type": "code",
   "execution_count": 5,
   "metadata": {},
   "outputs": [],
   "source": [
    "Exp = namedtuple(\n",
    "    'Experience',\n",
    "    ('state','action','next_state','reward')\n",
    ")"
   ]
  },
  {
   "cell_type": "code",
   "execution_count": 6,
   "metadata": {},
   "outputs": [
    {
     "data": {
      "text/plain": [
       "Experience(state=1, action=2, next_state=3, reward=2)"
      ]
     },
     "execution_count": 6,
     "metadata": {},
     "output_type": "execute_result"
    }
   ],
   "source": [
    "# Example of experience tuple\n",
    "e = Exp(1,2,3,2)\n",
    "e"
   ]
  },
  {
   "cell_type": "markdown",
   "metadata": {},
   "source": [
    "### Replay Memory\n",
    "6. Now we create __Replay Memory class__ which will store the Experiences we just created. This is done using a 'Capacity' which we will decide."
   ]
  },
  {
   "cell_type": "code",
   "execution_count": 7,
   "metadata": {},
   "outputs": [],
   "source": [
    "class ReplayMemory():\n",
    "    def __init__(self, Capacity):\n",
    "        self.Capacity = Capacity\n",
    "        self.memory = [] # This will contain the stored experiences\n",
    "        self.push_count = 0 # To know how many experiences we have added to the memory\n",
    "    \n",
    "    def push(self, experience): # to insert experience in memory\n",
    "        if len(self.memory) < self.Capacity:\n",
    "            self.memory.append(experience)\n",
    "        else:\n",
    "            self.memory[self.push_count%self.Capacity] = experience # overriding oldest memory first.\n",
    "            \n",
    "    def sample(self, batch_size): # to return a sample from memory ( with size = batch_size) to Train DQN. \n",
    "        return random.sample(self.memory, batch_size)\n",
    "    \n",
    "    def can_provide_sample(self, batch_size): # check \n",
    "        return len(self.memory) >= batch_size           "
   ]
  },
  {
   "cell_type": "markdown",
   "metadata": {},
   "source": [
    "### Epsilon-Greedy Strategy\n",
    "7. Now we create a class for __Epsilon-Greedy Strategy__ as follows:"
   ]
  },
  {
   "cell_type": "code",
   "execution_count": 8,
   "metadata": {},
   "outputs": [],
   "source": [
    "class EGreedy():\n",
    "    def __init__(self, start, end, decay):\n",
    "        self.start = start\n",
    "        self.decay = decay\n",
    "        self.end = end\n",
    "        \n",
    "    def get_exp_rate(self,current_step):\n",
    "        return self.end + (self.start -self.end) * math.exp(-1.*current_step*self.decay)"
   ]
  },
  {
   "cell_type": "markdown",
   "metadata": {},
   "source": [
    "### Agent Defination\n",
    "8. Now we create a class for __Agent()__. This class will require a strategy and set of available actions. *strategy* will come from Epsiolon-Greedy Class and in cart-pole model there are only 2 options: move left or right.\n",
    "   Agent will also have *device* variable, this will tell PyTorch what device to use for tensor calculations (CPU or GPU)."
   ]
  },
  {
   "cell_type": "code",
   "execution_count": 9,
   "metadata": {},
   "outputs": [],
   "source": [
    "class Agent():\n",
    "    def __init__(self, strategy, num_actions, device):\n",
    "        self.current_step = 0\n",
    "        self.strategy = strategy\n",
    "        self.num_actions = num_actions\n",
    "        self.device = device\n",
    "    \n",
    "    def selet_action(self, state, policy_net): # ploicy_net is our DQN being trained to learn optimal policy\n",
    "        rate = strategy.get_exp_rate(self.current_step) # gettin rate from e-greedy Class\n",
    "        self.current_step += 1\n",
    "        \n",
    "        if rate > random.random():\n",
    "            action = random.randrange(self.num_actions)\n",
    "            return torch.tensor([action]).to(self.device) # explore\n",
    "        else:\n",
    "            with torch.no_grad():\n",
    "                return policy_net(state).argmax(dim=1).to(self.device) # exploit\n",
    "                #returns action that corresponds to highest Q-value output from poilcy network for given state\n",
    "                "
   ]
  },
  {
   "cell_type": "markdown",
   "metadata": {},
   "source": [
    "## Environment:\n",
    "9. Now we create an __Environment__ class to manage our cart-pole environment. It will wrap gym's environment capabilities like reset(), close(), render(), done; along with some added functionalities like image pre-processing. This also uses *device* for tensor calculations.\n",
    "\n",
    "### Image Pre-processing:\n",
    "__Note:__ The states in the environment will be represented as screenhots-like images. In fact, __a state__ in the environment will be represented as the __difference between current screen and previous screeen.__\n",
    "(*This will allow the agent to take velocity of the pole into account from one single image*)\n",
    "Some note-worthy functions which are used :\n",
    "\n",
    "1. *__get_processed_screen()__*: \n",
    "    1. First render the environment as RGB array. Then transposes this array into order of channels by height by width, this is what our PyTorch DQN expects. \n",
    "    * Then crops the image using _cropped()_ function. \n",
    "    * Then the cropped image is further processed for re-scaling and final data conversion, using _transform_screen_data()_ function.\n",
    "2. *__transform_screen_data()__*:\n",
    "    1. First converts the input image to a numpy array with same size and shape as of the screen, using ascontinousarray() function of numpy library.\n",
    "    2. Then, we rescale the values by dividing all of them by 255. This is required for neural network input and is a typical process that occurs during image processing.\n",
    "    3. Then, this array is converted to a tensor in order to perform image transformations.\n",
    "    4. These, image transformations include: resizing, conversion to PIL image and final conversion to a tensor form.\n",
    "3. *__cropped()__*: crops the input image and returns image with height cropped 20% from the top and 40% from the bottom."
   ]
  },
  {
   "cell_type": "code",
   "execution_count": 10,
   "metadata": {},
   "outputs": [],
   "source": [
    "class CartPole():\n",
    "    def __init__(self, device):\n",
    "        self.device = device\n",
    "        self.env = gym.make('CartPole-v0').unwrapped \n",
    "        # unwrapped gives us access to behind-the-scenes dynamics of the environment. \n",
    "        self.env.reset()\n",
    "        self.current_screen = None\n",
    "        self.done = False\n",
    "        \n",
    "    def reset(self):\n",
    "        self.env.reset()\n",
    "        self.current_screen = None\n",
    "    \n",
    "    def close(self):\n",
    "        self.env.close()\n",
    "        \n",
    "    def render(self, mode='human'):\n",
    "        return self.env.render(mode)\n",
    "    \n",
    "    def num_actions_available(self):\n",
    "        return self.env.action_space.n\n",
    "    \n",
    "    def perform_action(self, action):        \n",
    "        _, reward, self.done, _ = self.env.step(action.item())\n",
    "        return torch.tensor([reward], device=self.device)\n",
    "    \n",
    "    def just_starting(self):\n",
    "            return self.current_screen is None\n",
    "    \n",
    "    #to return current state of env in form of processed image of the screen\n",
    "    def get_state(self):\n",
    "        if self.just_starting() or self.done:\n",
    "            self.current_screen = self.get_processed_screen()\n",
    "            black_screen = torch.zeros_like(self.current_screen)\n",
    "            return black_screen\n",
    "        else:\n",
    "            s1 = self.current_screen\n",
    "            s2 = self.get_processed_screen()\n",
    "            self.current_screen = s2\n",
    "            return s2 - s1\n",
    "        #THIS DIFFERERNCE REPRESENTS A SINGLE STATE\n",
    "    \n",
    "    def get_screen_height(self):\n",
    "        screen = self.get_processed_screen()\n",
    "        return screen.shape[2]\n",
    "    \n",
    "    def get_screen_width(self):\n",
    "        screen = self.get_processed_screen()\n",
    "        return screen.shape[3]\n",
    "    \n",
    "    def get_processed_screen(self):\n",
    "        screen = self.render('rgb_array').transpose((2, 0, 1)) # PyTorch expects [C x H x W]\n",
    "        screen = self.cropped(screen)\n",
    "        return self.transform_screen_data(screen)\n",
    "    \n",
    "    def cropped(self, screen):\n",
    "        screen_height = screen.shape[1]\n",
    "        screen_width = screen.shape[2]\n",
    "        \n",
    "        # Strip off top and bottom\n",
    "        top = int(screen_height * 0.4) # 40% of the screen height to remove top 40% off the screen\n",
    "        bottom = int(screen_height * 0.8) # 80% of the screen height to remove bottom 20% off the screen\n",
    "        \n",
    "        # strip off left and right\n",
    "        #left = int(screen_width * 0.4)\n",
    "        #right = int(screen_width * 0.6)\n",
    "        #screen = screen[:, top:bottom,left:right]\n",
    "        screen = screen[:, top:bottom,:] # Sliced Screen\n",
    "        return screen\n",
    "    \n",
    "    def transform_screen_data(self, screen):\n",
    "        # Convert to float, rescale, convert to tensor\n",
    "        screen = np.ascontiguousarray(screen, dtype=np.float32) / 255\n",
    "        screen = torch.from_numpy(screen)\n",
    "        \n",
    "        # Use torchVision Package to compose image transforms\n",
    "        resize = T.Compose([ \n",
    "            T.ToPILImage()\n",
    "            ,T.Resize((40,90))\n",
    "            ,T.ToTensor()\n",
    "        ])\n",
    "        \n",
    "        return resize(screen).unsqueeze(0).to(self.device)#add batch dimension: Imgs passed to DQN in batches\n",
    "    \n",
    "        "
   ]
  },
  {
   "cell_type": "markdown",
   "metadata": {},
   "source": [
    "### Example of screens:\n",
    "10. following are examples of processed and non-processed screen:\n",
    "### example of non-processed screen:"
   ]
  },
  {
   "cell_type": "code",
   "execution_count": 11,
   "metadata": {},
   "outputs": [
    {
     "data": {
      "image/png": "[encoded data removed]",
      "text/plain": [
       "<Figure size 432x288 with 1 Axes>"
      ]
     },
     "metadata": {
      "needs_background": "light"
     },
     "output_type": "display_data"
    }
   ],
   "source": [
    "device = torch.device(\"cuda\" if torch.cuda.is_available() else \"cpu\")\n",
    "sys = CartPole(device)\n",
    "sys.reset()\n",
    "\n",
    "plt.figure()\n",
    "screen = sys.render('rgb_array')\n",
    "\n",
    "plt.imshow(screen)\n",
    "plt.title('Non-processed screen example')\n",
    "plt.show()"
   ]
  },
  {
   "cell_type": "markdown",
   "metadata": {},
   "source": [
    "### Example of a processed screen"
   ]
  },
  {
   "cell_type": "code",
   "execution_count": 12,
   "metadata": {},
   "outputs": [
    {
     "data": {
      "image/png": "[encoded data removed]",
      "text/plain": [
       "<Figure size 432x288 with 1 Axes>"
      ]
     },
     "metadata": {
      "needs_background": "light"
     },
     "output_type": "display_data"
    }
   ],
   "source": [
    "screen = sys.get_processed_screen()\n",
    "\n",
    "plt.figure()\n",
    "plt.imshow(screen.squeeze(0).permute(1, 2, 0).cpu(), interpolation='none')\n",
    "plt.title('Processed screen example')\n",
    "plt.show()"
   ]
  },
  {
   "cell_type": "markdown",
   "metadata": {},
   "source": [
    "### Example of starting state\n"
   ]
  },
  {
   "cell_type": "code",
   "execution_count": 13,
   "metadata": {},
   "outputs": [
    {
     "data": {
      "image/png": "[encoded data removed]",
      "text/plain": [
       "<Figure size 432x288 with 1 Axes>"
      ]
     },
     "metadata": {
      "needs_background": "light"
     },
     "output_type": "display_data"
    }
   ],
   "source": [
    "screen = sys.get_state()\n",
    "\n",
    "plt.figure()\n",
    "plt.imshow(screen.squeeze(0).permute(1,2,0), interpolation = 'none')\n",
    "plt.title('processed initial screen')\n",
    "plt.show()"
   ]
  },
  {
   "cell_type": "markdown",
   "metadata": {},
   "source": [
    "### Example of non-starting processed screen\n",
    "__Note:__ As we are taking difference between two subsequent screens, most pixel values will be zero. Only things visible are due to movement of cart-pole from previous screent to new screen."
   ]
  },
  {
   "cell_type": "code",
   "execution_count": 14,
   "metadata": {},
   "outputs": [
    {
     "name": "stderr",
     "output_type": "stream",
     "text": [
      "Clipping input data to the valid range for imshow with RGB data ([0..1] for floats or [0..255] for integers).\n"
     ]
    },
    {
     "data": {
      "image/png": "[encoded data removed]",
      "text/plain": [
       "<Figure size 432x288 with 1 Axes>"
      ]
     },
     "metadata": {
      "needs_background": "light"
     },
     "output_type": "display_data"
    }
   ],
   "source": [
    "for i in range(5):\n",
    "    sys.perform_action(torch.tensor([1]))\n",
    "        \n",
    "screen = sys.get_state()\n",
    "\n",
    "plt.figure()\n",
    "plt.imshow(screen.squeeze(0).permute(1,2,0), interpolation = 'none')\n",
    "plt.title('processed initial screen')\n",
    "plt.show()"
   ]
  },
  {
   "cell_type": "markdown",
   "metadata": {},
   "source": [
    "### Visualize the results:\n",
    "11. Some function to visualize the learning:\n",
    "\n",
    "The __plot()__ uses matplotlib library. This function will plot the duration of each episode, as well as the 100 episode moving average. condition for solving this problem is that the average reward must be >= 195 over 100 consecutive episodes.\n",
    "\n",
    "The __moving_average()__ function plots a moving average by using *unfold()* to first slice of size = period input and then taking mean of the tensors in that period. Moreover, it plots values for each step."
   ]
  },
  {
   "cell_type": "code",
   "execution_count": 15,
   "metadata": {},
   "outputs": [],
   "source": [
    "def plot(values, moving_avg_period):\n",
    "    plt.figure(2)\n",
    "    plt.clf()        \n",
    "    plt.title('Training...')\n",
    "    plt.xlabel('Episode')\n",
    "    plt.ylabel('Duration')\n",
    "    plt.plot(values)\n",
    "    plt.plot(moving_average(moving_avg_period, values))\n",
    "    plt.pause(0.001)\n",
    "    if is_ipython: display.clear_output(wait=True)\n",
    "        \n",
    "def moving_average(period, values):\n",
    "    values = torch.tensor(values, dtype=torch.float)\n",
    "    if len(values) >= period:\n",
    "        moving_avg = values.unfold(dimension=0, size=period, step=1) \\\n",
    "            .mean(dim=1).flatten(start_dim=0)\n",
    "        moving_avg = torch.cat((torch.zeros(period-1), moving_avg))\n",
    "        return moving_avg.numpy()\n",
    "    else:\n",
    "        moving_avg = torch.zeros(len(values))\n",
    "        return moving_avg.numpy()"
   ]
  },
  {
   "cell_type": "markdown",
   "metadata": {},
   "source": [
    "Following shows usage of the *moving_average()* function with an example episode of length 250 and moving average of 50"
   ]
  },
  {
   "cell_type": "code",
   "execution_count": 16,
   "metadata": {},
   "outputs": [
    {
     "data": {
      "image/png": "[encoded data removed]",
      "text/plain": [
       "<Figure size 432x288 with 1 Axes>"
      ]
     },
     "metadata": {
      "needs_background": "light"
     },
     "output_type": "display_data"
    }
   ],
   "source": [
    "# example of moving average\n",
    "plot(np.random.rand(250), 50)"
   ]
  },
  {
   "cell_type": "markdown",
   "metadata": {},
   "source": [
    "### Training Setup:\n",
    "12. Now we do the needful for initiating the algorithm.\n",
    "\n",
    "12(a) First, we set the hyperparameters:"
   ]
  },
  {
   "cell_type": "code",
   "execution_count": 17,
   "metadata": {},
   "outputs": [],
   "source": [
    "batch_size = 512     # minibatch\n",
    "gamma = 0.999          # discount factor 0.999\n",
    "eps_start = 1         # start of the exploration rate 1\n",
    "eps_end = 0.01        # end of the exploration rate 0.01\n",
    "eps_decay = 0.001     # decay rate of the exploration rate 0.001\n",
    "target_update = 10    # number of episodes before updation of target net 10 \n",
    "memory_size = 100000     #100000\n",
    "lr = 0.01            # learning rate 0.001\n",
    "num_episodes = 1500   # 1000  "
   ]
  },
  {
   "cell_type": "markdown",
   "metadata": {},
   "source": [
    "12(b) Now we instantiate objects of all the required we defined above."
   ]
  },
  {
   "cell_type": "code",
   "execution_count": 18,
   "metadata": {},
   "outputs": [],
   "source": [
    "device = torch.device(\"cuda\" if torch.cuda.is_available() else \"cpu\")\n",
    "sys = CartPole(device)\n",
    "strategy = EGreedy(eps_start, eps_end, eps_decay)\n",
    "\n",
    "agent = Agent(strategy, sys.num_actions_available(), device)\n",
    "memory = ReplayMemory(memory_size)"
   ]
  },
  {
   "cell_type": "markdown",
   "metadata": {},
   "source": [
    "12(c) Now, we create instances of our DQN class to define our policy network and target network. Here, we initiate the target network such that it has same weights and biases as of policy network initially. \n",
    "\n",
    "In PyTorch, *load_state_dict()* and *state_dict()* help us set the weights. *eval()* function makes it clear that the network is not in training mode and the optimizer we have used is Adam optimizer which is an advanced application for performing gradient descent."
   ]
  },
  {
   "cell_type": "code",
   "execution_count": 19,
   "metadata": {},
   "outputs": [],
   "source": [
    "policy_net = DQN(sys.get_screen_height(), sys.get_screen_width()).to(device)\n",
    "target_net = DQN(sys.get_screen_height(), sys.get_screen_width()).to(device)\n",
    "\n",
    "target_net.load_state_dict(policy_net.state_dict())\n",
    "target_net.eval() # target network is not in training mode\n",
    "\n",
    "optimizer =  optim.Adam(params=policy_net.parameters(), lr = lr) # chose optimizer as Adam instead of classic GD\n",
    "# with parameters to be learned set to params of policy_net"
   ]
  },
  {
   "cell_type": "markdown",
   "metadata": {},
   "source": [
    "### Tensor Processing code:\n",
    "14. Here, the __extract_tensor()__ returns a batch consisting of multiple experience tensors in a structure similar to experience tensor. For clarity, see: https://stackoverflow.com/questions/19339/transpose-unzip-function-inverse-of-zip"
   ]
  },
  {
   "cell_type": "code",
   "execution_count": 20,
   "metadata": {},
   "outputs": [],
   "source": [
    "def extract_tensor(experiences):\n",
    "    # Converts a 'batch of Experiences' to 'Experience of batches'\n",
    "    batch = Exp(*zip(*experiences))\n",
    "\n",
    "    t1 = torch.cat(batch.state)\n",
    "    \n",
    "    t2 = torch.cat(batch.action)\n",
    "    t3 = torch.cat(batch.reward)\n",
    "    t4 = torch.cat(batch.next_state)\n",
    "\n",
    "    return (t1,t2,t3,t4)"
   ]
  },
  {
   "cell_type": "markdown",
   "metadata": {},
   "source": [
    "### Example of a batch tensor:"
   ]
  },
  {
   "cell_type": "code",
   "execution_count": 21,
   "metadata": {},
   "outputs": [
    {
     "data": {
      "text/plain": [
       "[Experience(state=11, action=2, next_state=12, reward=0),\n",
       " Experience(state=12, action=1, next_state=13, reward=1),\n",
       " Experience(state=13, action=3, next_state=14, reward=1)]"
      ]
     },
     "execution_count": 21,
     "metadata": {},
     "output_type": "execute_result"
    }
   ],
   "source": [
    "e1 = Exp(11,2,12,0)\n",
    "e2 = Exp(12,1,13,1)\n",
    "e3 = Exp(13,3,14,1)\n",
    "\n",
    "experiences = [e1,e2,e3]\n",
    "experiences"
   ]
  },
  {
   "cell_type": "code",
   "execution_count": 22,
   "metadata": {},
   "outputs": [
    {
     "data": {
      "text/plain": [
       "Experience(state=(11, 12, 13), action=(2, 1, 3), next_state=(12, 13, 14), reward=(0, 1, 1))"
      ]
     },
     "execution_count": 22,
     "metadata": {},
     "output_type": "execute_result"
    }
   ],
   "source": [
    "batch = Exp(*zip(*experiences))\n",
    "batch\n",
    "#k = torch.cat(batch.state)"
   ]
  },
  {
   "cell_type": "markdown",
   "metadata": {},
   "source": [
    "### Class to calculate Q-values:\n",
    "15. This calss is required to calculate q-values from policynet: current state, and next states from target-net. The main reason for this class defination is to check for any final states next_states tensor (obtained by get_current() ). And if we do, then figure out their locations to avoid passing them to the target_net. This is done because for a predicted q-value, we know that their associated q-values will be zero. \n",
    "\n",
    "This class uses static functions __get_current()__ and __get_next()__. \n",
    "\n",
    "*What is a static method?*\n",
    "\n",
    "*Static methods, much like class methods, are methods that are bound to a class rather than its object. They do not require a class instance creation. So, they are not dependent on the state of the object.*\n",
    "\n",
    "*The difference between a static method and a class method is:*\n",
    "\n",
    "    Static method knows nothing about the class and just deals with the parameters.\n",
    "    Class method works with the class since its parameter is always the class itself.\n",
    "    \n",
    "more details: https://www.programiz.com/python-programming/methods/built-in/staticmethod\n",
    "\n",
    "Here,the __get_current()__ function accepts a policy network, and corresponding states and actions. Then this function rerturns Q-value from the policy network.\n",
    "\n",
    "And, __get_next()__ staticmethod accepts a target network and next states. Now, to return max reward (or min cost) this function first checks for the final state locations (all black screens) and non-final states with their values(using next_state tensor). Then, we see the count (batch_size) of next possible states, and set the values for all corresponding locations equal to the maximum(or minimum) predicted q-values from the target_net."
   ]
  },
  {
   "cell_type": "code",
   "execution_count": 23,
   "metadata": {},
   "outputs": [],
   "source": [
    "class QValues():\n",
    "    device = torch.device(\"cuda\" if torch.cuda.is_available() else \"cpu\")\n",
    "    \n",
    "    @staticmethod\n",
    "    def get_current(policy_net, states, actions):\n",
    "        return policy_net(states).gather(dim=1, index=actions.unsqueeze(-1))\n",
    "    \n",
    "    @staticmethod        \n",
    "    def get_next(target_net, next_states):                \n",
    "        final_state_locations = next_states.flatten(start_dim=1) \\\n",
    "            .max(dim=1)[0].eq(0).type(torch.bool)\n",
    "        non_final_state_locations = (final_state_locations == False)\n",
    "        non_final_states = next_states[non_final_state_locations]\n",
    "        batch_size = next_states.shape[0]\n",
    "        values = torch.zeros(batch_size).to(QValues.device)\n",
    "        values[non_final_state_locations] = target_net(non_final_states).max(dim=1)[0].detach()\n",
    "        return values"
   ]
  },
  {
   "cell_type": "markdown",
   "metadata": {},
   "source": [
    "# Training algorithm(DQN):\n",
    "Training of the neural network closely follows these steps:\n",
    "\n",
    "## Deep Q-network:\n",
    "\n",
    "    1. Initialize replay memory D capacity = N.\n",
    "    2. Initialize the policy network (Q-network) with random weights.\n",
    "    3. Initialize target network with same weights.\n",
    "    4. For each episode:\n",
    "        A. Start from an initial state.\n",
    "            B. Loop for each time step of the episode:\n",
    "            1. Select a control action using Q-network. (eg. using epsilon-greedy)\n",
    "            2. Execute selected action in an emulator. (eg. in gym environment)\n",
    "            3. Observe next state and cost/reward.\n",
    "            4. Store experience in replay memory D.\n",
    "            5. Sample random minibatch K from replay memory D.\n",
    "            6. Preprocess states from minibatch.\n",
    "            7. Pass minibatch of preprocessed states to policy network.\n",
    "            8. Calculate loss between output Q-values and target Q-values. (using target-network)\n",
    "            9. Gradient descent updates weights in the policy network to minimize loss.\n",
    "            10. After C time steps, weights in the target network are updated to weights in policy network.\n",
    "\n"
   ]
  },
  {
   "cell_type": "code",
   "execution_count": 24,
   "metadata": {},
   "outputs": [
    {
     "ename": "KeyboardInterrupt",
     "evalue": "",
     "output_type": "error",
     "traceback": [
      "\u001b[0;31m---------------------------------------------------------------------------\u001b[0m",
      "\u001b[0;31mKeyboardInterrupt\u001b[0m                         Traceback (most recent call last)",
      "\u001b[0;32m<ipython-input-24-251d299d267c>\u001b[0m in \u001b[0;36m<module>\u001b[0;34m\u001b[0m\n\u001b[1;32m     19\u001b[0m \u001b[0;34m\u001b[0m\u001b[0m\n\u001b[1;32m     20\u001b[0m             \u001b[0mcurrent_q_values\u001b[0m \u001b[0;34m=\u001b[0m \u001b[0mQValues\u001b[0m\u001b[0;34m.\u001b[0m\u001b[0mget_current\u001b[0m\u001b[0;34m(\u001b[0m\u001b[0mpolicy_net\u001b[0m\u001b[0;34m,\u001b[0m \u001b[0mstates\u001b[0m\u001b[0;34m,\u001b[0m \u001b[0mactions\u001b[0m\u001b[0;34m)\u001b[0m \u001b[0;31m# returns Q-values\u001b[0m\u001b[0;34m\u001b[0m\u001b[0;34m\u001b[0m\u001b[0m\n\u001b[0;32m---> 21\u001b[0;31m             \u001b[0mnext_q_values\u001b[0m \u001b[0;34m=\u001b[0m \u001b[0mQValues\u001b[0m\u001b[0;34m.\u001b[0m\u001b[0mget_next\u001b[0m\u001b[0;34m(\u001b[0m\u001b[0mtarget_net\u001b[0m\u001b[0;34m,\u001b[0m \u001b[0mnext_states\u001b[0m\u001b[0;34m)\u001b[0m\u001b[0;34m\u001b[0m\u001b[0;34m\u001b[0m\u001b[0m\n\u001b[0m\u001b[1;32m     22\u001b[0m             \u001b[0mtarget_q_values\u001b[0m \u001b[0;34m=\u001b[0m \u001b[0;34m(\u001b[0m\u001b[0mnext_q_values\u001b[0m \u001b[0;34m*\u001b[0m \u001b[0mgamma\u001b[0m\u001b[0;34m)\u001b[0m \u001b[0;34m+\u001b[0m \u001b[0mrewards\u001b[0m\u001b[0;34m\u001b[0m\u001b[0;34m\u001b[0m\u001b[0m\n\u001b[1;32m     23\u001b[0m \u001b[0;34m\u001b[0m\u001b[0m\n",
      "\u001b[0;32m<ipython-input-23-0acc3da07fc4>\u001b[0m in \u001b[0;36mget_next\u001b[0;34m(target_net, next_states)\u001b[0m\n\u001b[1;32m      9\u001b[0m     \u001b[0;32mdef\u001b[0m \u001b[0mget_next\u001b[0m\u001b[0;34m(\u001b[0m\u001b[0mtarget_net\u001b[0m\u001b[0;34m,\u001b[0m \u001b[0mnext_states\u001b[0m\u001b[0;34m)\u001b[0m\u001b[0;34m:\u001b[0m\u001b[0;34m\u001b[0m\u001b[0;34m\u001b[0m\u001b[0m\n\u001b[1;32m     10\u001b[0m         \u001b[0mfinal_state_locations\u001b[0m \u001b[0;34m=\u001b[0m \u001b[0mnext_states\u001b[0m\u001b[0;34m.\u001b[0m\u001b[0mflatten\u001b[0m\u001b[0;34m(\u001b[0m\u001b[0mstart_dim\u001b[0m\u001b[0;34m=\u001b[0m\u001b[0;36m1\u001b[0m\u001b[0;34m)\u001b[0m\u001b[0;31m \u001b[0m\u001b[0;31m\\\u001b[0m\u001b[0;34m\u001b[0m\u001b[0;34m\u001b[0m\u001b[0m\n\u001b[0;32m---> 11\u001b[0;31m             \u001b[0;34m.\u001b[0m\u001b[0mmax\u001b[0m\u001b[0;34m(\u001b[0m\u001b[0mdim\u001b[0m\u001b[0;34m=\u001b[0m\u001b[0;36m1\u001b[0m\u001b[0;34m)\u001b[0m\u001b[0;34m[\u001b[0m\u001b[0;36m0\u001b[0m\u001b[0;34m]\u001b[0m\u001b[0;34m.\u001b[0m\u001b[0meq\u001b[0m\u001b[0;34m(\u001b[0m\u001b[0;36m0\u001b[0m\u001b[0;34m)\u001b[0m\u001b[0;34m.\u001b[0m\u001b[0mtype\u001b[0m\u001b[0;34m(\u001b[0m\u001b[0mtorch\u001b[0m\u001b[0;34m.\u001b[0m\u001b[0mbool\u001b[0m\u001b[0;34m)\u001b[0m\u001b[0;34m\u001b[0m\u001b[0;34m\u001b[0m\u001b[0m\n\u001b[0m\u001b[1;32m     12\u001b[0m         \u001b[0mnon_final_state_locations\u001b[0m \u001b[0;34m=\u001b[0m \u001b[0;34m(\u001b[0m\u001b[0mfinal_state_locations\u001b[0m \u001b[0;34m==\u001b[0m \u001b[0;32mFalse\u001b[0m\u001b[0;34m)\u001b[0m\u001b[0;34m\u001b[0m\u001b[0;34m\u001b[0m\u001b[0m\n\u001b[1;32m     13\u001b[0m         \u001b[0mnon_final_states\u001b[0m \u001b[0;34m=\u001b[0m \u001b[0mnext_states\u001b[0m\u001b[0;34m[\u001b[0m\u001b[0mnon_final_state_locations\u001b[0m\u001b[0;34m]\u001b[0m\u001b[0;34m\u001b[0m\u001b[0;34m\u001b[0m\u001b[0m\n",
      "\u001b[0;31mKeyboardInterrupt\u001b[0m: "
     ]
    }
   ],
   "source": [
    "#Training Loop\n",
    "episode_durations = []\n",
    "for episode in range(num_episodes):\n",
    "    sys.reset()\n",
    "    state = sys.get_state()\n",
    "    \n",
    "    for timestep in count():\n",
    "        action = agent.selet_action(state, policy_net)\n",
    "        reward = sys.perform_action(action)\n",
    "        next_state = sys.get_state()\n",
    "        memory.push(Exp(state,action, next_state, reward))\n",
    "        state = next_state\n",
    "        \n",
    "        if memory.can_provide_sample(batch_size):\n",
    "            experiences = memory.sample(batch_size)\n",
    "            states,actions,rewards, next_states = extract_tensor(experiences) \n",
    "            #print(rewards)\n",
    "            # this saves tensors of experience, returned by extract_tensor()\n",
    "            \n",
    "            current_q_values = QValues.get_current(policy_net, states, actions) # returns Q-values\n",
    "            next_q_values = QValues.get_next(target_net, next_states)\n",
    "            target_q_values = (next_q_values * gamma) + rewards\n",
    "\n",
    "            loss = F.mse_loss(current_q_values, target_q_values.unsqueeze(1)) # mean squared error\n",
    "            optimizer.zero_grad() # makes all the gradients 0 before backpropogation occurs\n",
    "            loss.backward()\n",
    "            optimizer.step()\n",
    "            \n",
    "        if sys.done:\n",
    "            episode_durations.append(timestep)\n",
    "            plot(episode_durations, 20) #plotting results for this episode, and moving avg of 100 episodes\n",
    "            break\n",
    "            \n",
    "            \n",
    "    if episode%target_update == 0: \n",
    "        target_net.load_state_dict(policy_net.state_dict()) #updates target network after 10 episodes \n",
    "        \n",
    "sys.close()"
   ]
  },
  {
   "cell_type": "code",
   "execution_count": null,
   "metadata": {},
   "outputs": [],
   "source": []
  },
  {
   "cell_type": "code",
   "execution_count": null,
   "metadata": {},
   "outputs": [],
   "source": []
  }
 ],
 "metadata": {
  "kernelspec": {
   "display_name": "Python 3",
   "language": "python",
   "name": "python3"
  },
  "language_info": {
   "codemirror_mode": {
    "name": "ipython",
    "version": 3
   },
   "file_extension": ".py",
   "mimetype": "text/x-python",
   "name": "python",
   "nbconvert_exporter": "python",
   "pygments_lexer": "ipython3",
   "version": "3.7.4"
  }
 },
 "nbformat": 4,
 "nbformat_minor": 2
}
